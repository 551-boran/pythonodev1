{
 "cells": [
  {
   "cell_type": "code",
   "execution_count": null,
   "metadata": {},
   "outputs": [],
   "source": [
    "kullanıcı_listesi=[\"firstname\",\"lastname\",\"age\",\"dateofbirth\"]\n",
    "for i in kullanıcı_listesi:\n",
    "    firstname=input(\"Please enter your firstname:\")\n",
    "    lastname=input(\"Please enter your lastname:\")\n",
    "    age=int(input(\"Please enter your age:\"))\n",
    "    dateofbirth=input(\"Please enter your dateofbirth just year:\")\n",
    "    \n",
    "    if age<=18:\n",
    "        print(\"You can not go out because it is too dangerous!!\")\n",
    "    else:\n",
    "        print(\"You can go outside :)\")"
   ]
  }
 ],
 "metadata": {
  "kernelspec": {
   "display_name": "Python 3",
   "language": "python",
   "name": "python3"
  },
  "language_info": {
   "codemirror_mode": {
    "name": "ipython",
    "version": 3
   },
   "file_extension": ".py",
   "mimetype": "text/x-python",
   "name": "python",
   "nbconvert_exporter": "python",
   "pygments_lexer": "ipython3",
   "version": "3.9.1"
  }
 },
 "nbformat": 4,
 "nbformat_minor": 4
}
