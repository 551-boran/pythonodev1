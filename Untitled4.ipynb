{
 "cells": [
  {
   "cell_type": "code",
   "execution_count": null,
   "metadata": {},
   "outputs": [],
   "source": [
    "\n",
    "print (\"bes tane deger gireceksiniz.\")\n",
    "a=int(input(\"Birinci değeri giriniz:\"))\n",
    "b=int(input(\"İkinci değeri giriniz:\"))\n",
    "c=int(input(\"Üçüncü değeri giriniz:\"))\n",
    "d=int(input(\"Dördüncü değeri giriniz:\"))\n",
    "e=int(input(\"Beşinci değeri giriniz:\"))\n",
    "at=type(a)\n",
    "bt=type(b)\n",
    "ct=type(c)\n",
    "dt=type(d)\n",
    "et=type(e)\n",
    "print(\"1.değer: {} ,Cinsi {} , 2. değer: {} Cinsi {} , 3.değer {} Cinsi {} , 4.değer: {} Cinsi {}, 5.değer {}Cinsi {}\".format(a,at,b,bt,c,ct,d,dt,e,et))\n",
    "\n",
    "\n",
    "\n",
    "\n",
    "\n"
   ]
  },
  {
   "cell_type": "code",
   "execution_count": null,
   "metadata": {},
   "outputs": [],
   "source": []
  },
  {
   "cell_type": "code",
   "execution_count": null,
   "metadata": {},
   "outputs": [],
   "source": []
  },
  {
   "cell_type": "code",
   "execution_count": null,
   "metadata": {},
   "outputs": [],
   "source": []
  }
 ],
 "metadata": {
  "kernelspec": {
   "display_name": "Python 3",
   "language": "python",
   "name": "python3"
  },
  "language_info": {
   "codemirror_mode": {
    "name": "ipython",
    "version": 3
   },
   "file_extension": ".py",
   "mimetype": "text/x-python",
   "name": "python",
   "nbconvert_exporter": "python",
   "pygments_lexer": "ipython3",
   "version": "3.9.1"
  }
 },
 "nbformat": 4,
 "nbformat_minor": 4
}
