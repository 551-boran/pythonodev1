{
 "cells": [
  {
   "cell_type": "code",
   "execution_count": null,
   "metadata": {},
   "outputs": [],
   "source": [
    "import random\n",
    "print(\"Sayı tahmin etme oyunudur.\")\n",
    "kullanıcıadı=input(\"kullanıcı adı giriniz:\")\n",
    "print(\"Hoşgeldin {}\".format(kullanıcıadı))\n",
    "sayı=random.randint(1,100)\n",
    "tahmin=int(input(\"1 ile 99 arasında bir saygı giriniz:\"))\n",
    "while True:\n",
    "        if tahmin<sayı:\n",
    "            print(\"Tahmin ettiğiniz sayı küçük ,  daha büyük bir sayı giriniz:\")\n",
    "            tahmin=int(input(\"1 ile 99 arasında bir saygı giriniz:\"))\n",
    "        elif tahmin>sayı:\n",
    "            print(\"Tahmin ettiğiniz sayı büyük, daha küçük bir sayı giriniz:\")\n",
    "            tahmin=int(input(\"1 ile 99 arasında bir saygı giriniz:\"))\n",
    "        else:\n",
    "            print(\"Tahmin ettiğiniz sayı doğru . Tebrikler\")\n",
    "            break"
   ]
  }
 ],
 "metadata": {
  "kernelspec": {
   "display_name": "Python 3",
   "language": "python",
   "name": "python3"
  },
  "language_info": {
   "codemirror_mode": {
    "name": "ipython",
    "version": 3
   },
   "file_extension": ".py",
   "mimetype": "text/x-python",
   "name": "python",
   "nbconvert_exporter": "python",
   "pygments_lexer": "ipython3",
   "version": "3.9.1"
  }
 },
 "nbformat": 4,
 "nbformat_minor": 4
}
